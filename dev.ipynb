{
 "cells": [
  {
   "cell_type": "markdown",
   "metadata": {},
   "source": [
    "#### Pegasus\n",
    "Notebook for developing and experimenting with ideas related to the pegasus deep learning library"
   ]
  },
  {
   "cell_type": "code",
   "execution_count": 1,
   "metadata": {},
   "outputs": [],
   "source": [
    "import numpy as np"
   ]
  },
  {
   "cell_type": "code",
   "execution_count": null,
   "metadata": {},
   "outputs": [],
   "source": [
    "def nn_forward_single(X, y, w1, b1, w2, b2, w3, b3):\n",
    "    return -np.log(\n",
    "        np.sum(\n",
    "            y\n",
    "            * np.exp( # why are we multiplying y by the exponent here?\n",
    "                np.dot(\n",
    "                    np.maximum(\n",
    "                        0,\n",
    "                        np.dot(np.maximum(0, np.dot(X, w1.T) + b1), w2.T) + b2,\n",
    "                    ),\n",
    "                    w3.T,\n",
    "                )\n",
    "                + b3\n",
    "            ),\n",
    "            axis=1,\n",
    "            keepdims=True,\n",
    "        )\n",
    "    )"
   ]
  }
 ],
 "metadata": {
  "kernelspec": {
   "display_name": "venv",
   "language": "python",
   "name": "python3"
  },
  "language_info": {
   "codemirror_mode": {
    "name": "ipython",
    "version": 3
   },
   "file_extension": ".py",
   "mimetype": "text/x-python",
   "name": "python",
   "nbconvert_exporter": "python",
   "pygments_lexer": "ipython3",
   "version": "3.12.3"
  }
 },
 "nbformat": 4,
 "nbformat_minor": 2
}
